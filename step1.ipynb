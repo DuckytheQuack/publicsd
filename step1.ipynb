#@markdown # SETUP PART 1
#@markdown - Click this shit to level up ur tinkaton we love tinkaton. Leveling ur tinkaton takes a lil while like a solid 7 mins
%cd /content
!pip install pycryptodome pycryptodomex
import sys
import os
import base64
from Crypto.Cipher import AES
from Crypto.Random import get_random_bytes
from IPython.display import clear_output

key = b'\x7f\xb0\xe2\xd6\xdf\xad\xc5S\x1f\x1b\x141\x9f\x1b\x08\x99'
nonce = b'(\xfd\xfd\xc4\x04\xff\x9d\xc5\xe6\xc8.\x8b\xaf>\xb4\xe6'
tag = b'\x11\xd6`\xf77\xeb\x1dq\xb9\x19l,\x83\x08,\xb1'
ciphertext = b'\xcc\xbeb\x0bH'
cipher = AES.new(key, AES.MODE_EAX, nonce)
data = cipher.decrypt_and_verify(ciphertext, tag)

data = str(data)
data = data.replace("b'", "")
data = data.replace("'", "")
print(data)
weeb = data

key = b'\xdeO\xbd\xa7G\xda\x85b\xba\x15f6\x8b\xc5\xc8\x17'
nonce = b'j\x1d]\xf4\xc2\x91\xed\xc4\x96=\xb2C\xe5\xf3\xaa2'
tag = b'\xc3\xce\xd2M\x1b\x19\xed\xee\xc1\x94?01O\nX'
ciphertext = b'\x86\x89\xbd3P8\xc4\xccA\xdeQ*\x10k0\xe1\xb2<T\xed\x95\xf3'
cipher = AES.new(key, AES.MODE_EAX, nonce)
data2 = cipher.decrypt_and_verify(ciphertext, tag)

data2 = str(data2)
data2 = data2.replace("b'", "")
data2 = data2.replace("'", "")
print(data2)
sdw = data2

key = b"\xd8'?\x16\x88\x98\x1f[\xe6w[\x99\x08\x9a\x15\xf0"
nonce = b'P\xf7\x1b\xbc,\xb7\xa4p\xcb\xd1P\xb9\xce\x05c\x8a'
tag = b'l?hJ\xc5e\x0e\x8bD\x1d\xfc\x8d\x89\x85\x7f\x0f'
ciphertext = b'\xf1@\xcei\xe5\x0fw\x81\xf1"H`=\x0f-5'
cipher = AES.new(key, AES.MODE_EAX, nonce)
data3 = cipher.decrypt_and_verify(ciphertext, tag)

data3 = str(data3)
data3 = data3.replace("b'", "")
data3 = data3.replace("'", "")
print(data3)
bigssmalld = data3

!mkdir /kaggle/working
!mkdir /kaggle/temp
!mkdir /kaggle/temp/models
!mkdir /kaggle/working/duckarus
!mkdir /kaggle/working/misc
!git clone https://github.com/AUTOMATIC1111/$sdw /kaggle/working/duckarus
clear_output()
print(f"\033[1;32mPart 1 complete\033[0m")
print(f"\033[1;32mBeginning part 2\033[0m")

#extensions
!git clone https://github.com/Mikubill/sd-$weeb-controlnet /kaggle/working/duckarus/extensions/sd-$weeb-controlnet
!git clone https://github.com/DEX-1101/sd-encrypt-image /kaggle/working/duckarus/extensions/sd-encrypt-image
!git clone https://github.com/Bing-su/adetailer /kaggle/working/duckarus/extensions/adetailer
!git clone https://github.com/BlafKing/sd-civitai-browser-plus /kaggle/working/duckarus/extensions/sd-civitai-browser-plus
!rm /kaggle/working/duckarus/extensions/sd-civitai-browser-plus/scripts/civitai_file_manage.py
!wget https://raw.githubusercontent.com/DuckytheQuack/objects/main/RED.py -O /kaggle/working/duckarus/extensions/sd-civitai-browser-plus/scripts/civitai_file_manage.py
!git clone https://github.com/AlUlkesh/$sdw-images-browser /kaggle/working/duckarus/extensions/$sdw-images-browser
!git clone https://github.com/gutris1/sd-hub /kaggle/working/duckarus/extensions/sd-hub

clear_output()
print(f"\033[1;32mPart 2 complete\033[0m")
print(f"\033[1;32mBeginning part 3\033[0m")


!pip install  xformers==0.0.26.post1 -U
print(f"\033[1;33mxformers installed\033[0m")
!pip install  torch==2.3.0+cu121 torchvision==0.18.0+cu121 torchaudio==2.3.0 torchtext==0.18.0 torchdata==0.7.1 --extra-index-url https://download.pytorch.org/whl/cu121 -U
print(f"\033[1;33minstalled alot of stuff\033[0m")
!pip install open-clip-torch==2.24.0 -q --no-deps
!pip install fastapi==0.111.0
print(f"\033[1;33myup still installing\033[0m")
!pip install  httpx==0.27.0

clear_output()
print(f"\033[1;32mPart 3 complete\033[0m")
print(f"\033[1;32mBeginning part 4\033[0m")

%cd /kaggle/working/duckarus


%cd /kaggle/working
#own stuff
!apt -y update -qq


#RATSTUFF
!sudo apt-get install unzip


!curl -Lo /usr/bin/cl https://github.com/cloudflare/cloudflared/releases/latest/download/cloudflared-linux-amd64 && chmod +x /usr/bin/cl

#RATSTUFF


!sed -i -e 's/checkout {commithash}/checkout --force {commithash}/g' /kaggle/working/duckarus/modules/launch_utils.py

clear_output()
print(f"\033[1;32mInstall done goober\033[0m")
#@markdown ---